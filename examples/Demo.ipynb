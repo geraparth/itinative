{
 "cells": [
  {
   "cell_type": "markdown",
   "id": "exterior-clothing",
   "metadata": {},
   "source": [
    "# Itinative API Usage\n",
    "\n",
    "Smarter trip planning using network analysis\n"
   ]
  },
  {
   "cell_type": "code",
   "execution_count": 4,
   "id": "difficult-trade",
   "metadata": {},
   "outputs": [
    {
     "name": "stdout",
     "output_type": "stream",
     "text": [
      "Enter the location:Chicago\n",
      "How many days are you planning for?4\n"
     ]
    }
   ],
   "source": [
    "import itinative as itin\n",
    "agent = itin.initialize(api_key=\"YOUR API KEY\")"
   ]
  },
  {
   "cell_type": "code",
   "execution_count": 5,
   "id": "lovely-sleep",
   "metadata": {},
   "outputs": [
    {
     "name": "stdout",
     "output_type": "stream",
     "text": [
      "Looking for places ...\n",
      "Looking up operating hours ...\n",
      "Thinking about your itinerary ...\n",
      "Looking for hotels ... \n",
      "Searching for top hotels ...\n",
      "******************************** RECOMMENDED LODGING ******************\n",
      "                                                      name  rating  user_ratings_total                            address\n",
      "                                     Hyatt Regency Chicago     4.4                8873     151 East Wacker Drive, Chicago\n",
      "   InterContinental Chicago Magnificent Mile, an IHG Hotel     4.4                3956 505 North Michigan Avenue, Chicago\n",
      "                Chicago Marriott Downtown Magnificent Mile     4.3                2747       540 Michigan Avenue, Chicago\n",
      "             theWit Chicago - a DoubleTree by Hilton Hotel     4.4                2654    201 North State Street, Chicago\n",
      "                        Renaissance Chicago Downtown Hotel     4.5                2563       1 West Wacker Drive, Chicago\n",
      "                Trump International Hotel & Tower® Chicago     4.1                2628   401 North Wabash Avenue, Chicago\n",
      "                        Fairmont Chicago - Millennium Park     4.4                2233  200 North Columbus Drive, Chicago\n",
      "                                      The Langham, Chicago     4.7                1741   330 North Wabash Avenue, Chicago\n",
      "                            The Westin Chicago River North     4.4                1749 320 North Dearborn Street, Chicago\n",
      "                     Hampton Inn & Suites Chicago-Downtown     4.2                1562   33 West Illinois Street, Chicago\n",
      "    Residence Inn by Marriott Chicago Downtown/River North     4.5                1455 410 North Dearborn Street, Chicago\n",
      "        Courtyard by Marriott Chicago Downtown/River North     4.3                1489    30 East Hubbard Street, Chicago\n",
      "                                              Kinzie Hotel     4.4                1328     20 West Kinzie Street, Chicago\n",
      "                         Royal Sonesta Chicago River North     4.5                1266    505 North State Street, Chicago\n",
      "SpringHill Suites by Marriott Chicago Downtown/River North     4.4                1236 410 North Dearborn Street, Chicago\n",
      "                Homewood Suites by Hilton Chicago-Downtown     4.3                1250      40 East Grand Avenue, Chicago\n",
      "                              Kimpton Hotel Monaco Chicago     4.6                1133   225 North Wabash Avenue, Chicago\n",
      "       Hilton Garden Inn Chicago Downtown/Magnificent Mile     4.1                1269      10 East Grand Avenue, Chicago\n",
      "                                           The River Hotel     4.2                1102      75 East Wacker Drive, Chicago\n",
      "          Club Quarters Hotel, Chicago, Wacker at Michigan     4.1                 926      75 East Wacker Drive, Chicago\n",
      "***********************************************************************\n",
      "Computing distances and transit times ...\n",
      "Generating itinerary ... \n",
      "Determining best route for day 1\n",
      "Academic license - for non-commercial use only - expires 2022-08-03\n",
      "Using license file /Users/mohit_mhjn/gurobi.lic\n",
      "\n",
      "###################### DAY 1 ######################\n",
      "          Point of Interest      Arrive at  Depart at\n",
      "         Start at the hotel Have Breakfast          -\n",
      "             Shedd Aquarium          09:32      11:02\n",
      "          Adler Planetarium          11:02      12:32\n",
      "Gold Star Families Memorial          12:33      14:03\n",
      "             Burnham Harbor          14:03      15:33\n",
      "               Field Museum          15:34      17:04\n",
      "        Arrive at the hotel              - Take Rest!\n",
      "###############################################################\n",
      "\n",
      "Determining best route for day 2\n",
      "\n",
      "###################### DAY 2 ######################\n",
      "           Point of Interest      Arrive at  Depart at\n",
      "          Start at the hotel Have Breakfast          -\n",
      "             Skydeck Chicago          09:31      11:01\n",
      "         Buckingham Fountain          11:02      12:32\n",
      "             Millennium Park          12:33      14:03\n",
      "                  Grant Park          14:04      15:34\n",
      "                  Cloud Gate          15:35      17:05\n",
      "The Art Institute of Chicago          17:05      18:35\n",
      "         Arrive at the hotel              - Take Rest!\n",
      "###############################################################\n",
      "\n",
      "Determining best route for day 3\n",
      "\n",
      "###################### DAY 3 ######################\n",
      "          Point of Interest      Arrive at  Depart at\n",
      "         Start at the hotel Have Breakfast          -\n",
      "              Tribune Tower          09:30      11:00\n",
      "Chicago Architecture Center          11:00      12:30\n",
      "             DuSable Bridge          12:31      14:01\n",
      "        Lakeshore East Park          14:01      15:31\n",
      "       The Wrigley Building          15:32      17:02\n",
      "     Dearborn Street Bridge          17:02      18:32\n",
      "        Arrive at the hotel              - Take Rest!\n",
      "###############################################################\n",
      "\n",
      "Determining best route for day 4\n",
      "\n",
      "###################### DAY 4 ######################\n",
      "                Point of Interest      Arrive at  Depart at\n",
      "               Start at the hotel Have Breakfast          -\n",
      "    Jane Addams Hull-House Museum          09:32      11:02\n",
      "        New Maxwell Street Market          11:02      12:32\n",
      "Old St. Patrick's Catholic Church          12:33      14:03\n",
      "              Arrive at the hotel              - Take Rest!\n",
      "###############################################################\n",
      "\n"
     ]
    }
   ],
   "source": [
    "agent.generate()"
   ]
  }
 ],
 "metadata": {
  "kernelspec": {
   "display_name": "Python 3",
   "language": "python",
   "name": "python3"
  },
  "language_info": {
   "codemirror_mode": {
    "name": "ipython",
    "version": 3
   },
   "file_extension": ".py",
   "mimetype": "text/x-python",
   "name": "python",
   "nbconvert_exporter": "python",
   "pygments_lexer": "ipython3",
   "version": "3.9.1"
  }
 },
 "nbformat": 4,
 "nbformat_minor": 5
}
