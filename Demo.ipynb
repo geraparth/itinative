{
 "cells": [
  {
   "cell_type": "markdown",
   "id": "exterior-clothing",
   "metadata": {},
   "source": [
    "# Itinerary Planner\n",
    "\n",
    "Smarter trip planning using network analysis\n",
    "\n",
    "### Team : \n",
    "Parth, Abhinav and Mohit"
   ]
  },
  {
   "cell_type": "code",
   "execution_count": 5,
   "id": "difficult-trade",
   "metadata": {},
   "outputs": [
    {
     "name": "stdout",
     "output_type": "stream",
     "text": [
      "Enter the location:Chicago\n",
      "How many days are you planning for?3\n"
     ]
    }
   ],
   "source": [
    "from main import *\n",
    "planner = initialize()"
   ]
  },
  {
   "cell_type": "code",
   "execution_count": 6,
   "id": "mineral-model",
   "metadata": {},
   "outputs": [
    {
     "name": "stdout",
     "output_type": "stream",
     "text": [
      "Looking for places ...\n",
      "Looking up operating hours ...\n",
      "Thinking about your itinerary ...\n",
      "Looking for hotels ... \n",
      "Searching for top hotels ...\n",
      "******************************** RECOMMENDED LODGING ******************\n",
      "                                              name  rating  user_ratings_total                             address\n",
      "                             Hyatt Regency Chicago     4.4                8816      151 East Wacker Drive, Chicago\n",
      "                                 Swissotel Chicago     4.4                4529      323 East Wacker Drive, Chicago\n",
      "                    Royal Sonesta Chicago Downtown     4.3                2695       71 East Wacker Drive, Chicago\n",
      "     theWit Chicago - a DoubleTree by Hilton Hotel     4.4                2596     201 North State Street, Chicago\n",
      "                Renaissance Chicago Downtown Hotel     4.5                2538        1 West Wacker Drive, Chicago\n",
      "                               JW Marriott Chicago     4.5                2273      151 West Adams Street, Chicago\n",
      "                   The Allegro Royal Sonesta Hotel     4.3                2356   171 West Randolph Street, Chicago\n",
      "                Fairmont Chicago - Millennium Park     4.4                2208   200 North Columbus Drive, Chicago\n",
      "                  Radisson Blu Aqua Hotel, Chicago     4.4                2207   221 North Columbus Drive, Chicago\n",
      "                                 HI Chicago Hostel     4.4                1917 24 East Ida B. Wells Drive, Chicago\n",
      "                              The Langham, Chicago     4.7                1715    330 North Wabash Avenue, Chicago\n",
      "La Quinta Inn & Suites by Wyndham Chicago Downtown     4.3                1774    1 South Franklin Street, Chicago\n",
      "                           W Chicago - City Center     4.0                1627      172 West Adams Street, Chicago\n",
      "                      Kimpton Hotel Monaco Chicago     4.6                1121    225 North Wabash Avenue, Chicago\n",
      "  Staypineapple, An Iconic Hotel, The Loop Chicago     4.6                1116   1 West Washington Street, Chicago\n",
      "                                Central Loop Hotel     4.1                1217      111 West Adams Street, Chicago\n",
      "                Silversmith Hotel Chicago Downtown     4.5                1082     10 South Wabash Avenue, Chicago\n",
      "                                   The River Hotel     4.2                1094       75 East Wacker Drive, Chicago\n",
      "     Hampton Inn Majestic Chicago Theatre District     4.4                 882      22 West Monroe Street, Chicago\n",
      "  Club Quarters Hotel, Chicago, Wacker at Michigan     4.1                 913       75 East Wacker Drive, Chicago\n",
      "***********************************************************************\n",
      "Computing distances and transit times ...\n",
      "Generating itinerary ... \n",
      "Determining best route for day 1\n",
      "\n",
      "###################### DAY 1 ######################\n",
      "          Point of Interest      Arrive at  Depart at\n",
      "         Start at the hotel Have Breakfast          -\n",
      "             Shedd Aquarium          09:31      11:01\n",
      "          Adler Planetarium          11:02      12:32\n",
      "Gold Star Families Memorial          12:33      14:03\n",
      "             Burnham Harbor          14:03      15:33\n",
      "               Field Museum          15:33      17:03\n",
      "        Arrive at the hotel              - Take Rest!\n",
      "###############################################################\n",
      "\n",
      "Determining best route for day 2\n",
      "\n",
      "###################### DAY 2 ######################\n",
      "           Point of Interest      Arrive at  Depart at\n",
      "          Start at the hotel Have Breakfast          -\n",
      "             Millennium Park          09:30      11:00\n",
      "                  Cloud Gate          11:00      12:30\n",
      "The Art Institute of Chicago          12:31      14:01\n",
      "                  Grant Park          14:01      15:31\n",
      "             Skydeck Chicago          15:33      17:03\n",
      "         Buckingham Fountain          17:04      18:34\n",
      "         Arrive at the hotel              - Take Rest!\n",
      "###############################################################\n",
      "\n",
      "Determining best route for day 3\n",
      "\n",
      "###################### DAY 3 ######################\n",
      "                Point of Interest      Arrive at  Depart at\n",
      "               Start at the hotel Have Breakfast          -\n",
      "    Jane Addams Hull-House Museum          09:32      11:02\n",
      "        New Maxwell Street Market          11:02      12:32\n",
      "Old St. Patrick's Catholic Church          12:33      14:03\n",
      "              Arrive at the hotel              - Take Rest!\n",
      "###############################################################\n",
      "\n"
     ]
    }
   ],
   "source": [
    "planner.generate()"
   ]
  }
 ],
 "metadata": {
  "kernelspec": {
   "display_name": "Python 3",
   "language": "python",
   "name": "python3"
  },
  "language_info": {
   "codemirror_mode": {
    "name": "ipython",
    "version": 3
   },
   "file_extension": ".py",
   "mimetype": "text/x-python",
   "name": "python",
   "nbconvert_exporter": "python",
   "pygments_lexer": "ipython3",
   "version": "3.9.1"
  }
 },
 "nbformat": 4,
 "nbformat_minor": 5
}
